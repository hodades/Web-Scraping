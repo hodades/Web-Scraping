{
  "nbformat": 4,
  "nbformat_minor": 0,
  "metadata": {
    "colab": {
      "provenance": []
    },
    "kernelspec": {
      "name": "python3",
      "display_name": "Python 3"
    },
    "language_info": {
      "name": "python"
    }
  },
  "cells": [
    {
      "cell_type": "markdown",
      "source": [
        "#tutorial on how to scrape the web.\n",
        "In this example, I scrape the BBC weather website for a specific city and collect the weather forecast for the next 14 days, saving it as a CSV file.\n",
        "\n",
        "Web scraping may not always be legal. It's a good idea for me to check the terms of the website I plan to scrape before proceeding. Additionally, if my code makes multiple requests to a server for a URL, it's a good practice for me to either cache my requests or insert a timed delay between consecutive requests."
      ],
      "metadata": {
        "id": "nAX3F1tw3RpD"
      }
    },
    {
      "cell_type": "code",
      "source": [
        "import json                   # to convert API to json format\n",
        "\n",
        "from urllib.parse import urlencode\n",
        "\n",
        "import requests               # to get the webpage\n",
        "from bs4 import BeautifulSoup # to parse the webpage\n",
        "\n",
        "import pandas as pd\n",
        "import re                     # regular expression operators\n",
        "\n",
        "from datetime import datetime"
      ],
      "metadata": {
        "id": "SY98tDG13VU0"
      },
      "execution_count": 1,
      "outputs": []
    },
    {
      "cell_type": "markdown",
      "source": [
        "We now GET the webpage of interest, from the server"
      ],
      "metadata": {
        "id": "W2woOEuh3b-l"
      }
    },
    {
      "cell_type": "code",
      "source": [
        "required_city = \"Mumbai\"\n",
        "location_url = 'https://locator-service.api.bbci.co.uk/locations?' + urlencode({\n",
        "   'api_key': 'AGbFAKx58hyjQScCXIYrxuEwJh2W2cmv',\n",
        "   's': required_city,\n",
        "   'stack': 'aws',\n",
        "   'locale': 'en',\n",
        "   'filter': 'international',\n",
        "   'place-types': 'settlement,airport,district',\n",
        "   'order': 'importance',\n",
        "   'a': 'true',\n",
        "   'format': 'json'\n",
        "})\n",
        "location_url"
      ],
      "metadata": {
        "colab": {
          "base_uri": "https://localhost:8080/",
          "height": 53
        },
        "id": "A7PHyTU13bSq",
        "outputId": "43268e09-55b4-4f6c-d8fe-86bb4221ce94"
      },
      "execution_count": 2,
      "outputs": [
        {
          "output_type": "execute_result",
          "data": {
            "text/plain": [
              "'https://locator-service.api.bbci.co.uk/locations?api_key=AGbFAKx58hyjQScCXIYrxuEwJh2W2cmv&s=Mumbai&stack=aws&locale=en&filter=international&place-types=settlement%2Cairport%2Cdistrict&order=importance&a=true&format=json'"
            ],
            "application/vnd.google.colaboratory.intrinsic+json": {
              "type": "string"
            }
          },
          "metadata": {},
          "execution_count": 2
        }
      ]
    },
    {
      "cell_type": "code",
      "source": [
        "result = requests.get(location_url).json()\n",
        "result"
      ],
      "metadata": {
        "colab": {
          "base_uri": "https://localhost:8080/"
        },
        "id": "NG80EhZK3f2J",
        "outputId": "6c10cf0b-c0da-4e9c-f76a-f55685ad9ad8"
      },
      "execution_count": 3,
      "outputs": [
        {
          "output_type": "execute_result",
          "data": {
            "text/plain": [
              "{'response': {'results': {'results': [{'id': '1275339',\n",
              "     'name': 'Mumbai',\n",
              "     'container': 'India',\n",
              "     'containerId': 1269750,\n",
              "     'language': 'en',\n",
              "     'timezone': 'Asia/Kolkata',\n",
              "     'country': 'IN',\n",
              "     'latitude': 19.07283,\n",
              "     'longitude': 72.88261,\n",
              "     'placeType': 'settlement'}],\n",
              "   'totalResults': 1}}}"
            ]
          },
          "metadata": {},
          "execution_count": 3
        }
      ]
    },
    {
      "cell_type": "code",
      "source": [
        "# url      = 'https://www.bbc.com/weather/1275339' # url to BBC weather, corresponding to a specific city (Mumbai, in this example)\n",
        "url      = 'https://www.bbc.com/weather/'+result['response']['results']['results'][0]['id']\n",
        "response = requests.get(url)"
      ],
      "metadata": {
        "id": "gaSPQJXA3hn5"
      },
      "execution_count": 4,
      "outputs": []
    },
    {
      "cell_type": "code",
      "source": [
        "#I initiate an instance of BeautifulSoup\n",
        "soup = BeautifulSoup(response.content,'html.parser')"
      ],
      "metadata": {
        "id": "LSPjFYjK3j3m"
      },
      "execution_count": 5,
      "outputs": []
    },
    {
      "cell_type": "markdown",
      "source": [
        "The information I want (daily high and low temperatures, and daily weather summary) is located in specific blocks on the webpage. I need to identify the block type, type of identifier, and the identifier name. All of these can be figured out by right-clicking on the webpage and selecting 'Inspect' in the Chrome browser; a similar method works for other browsers."
      ],
      "metadata": {
        "id": "3Q8ib2BK37yG"
      }
    },
    {
      "cell_type": "code",
      "source": [
        "daily_high_values = soup.find_all('span', attrs={'class': 'wr-day-temperature__high-value'}) # block-type: span; identifier type: class; and class name: wr-day-temperature__high-value\n",
        "daily_high_values"
      ],
      "metadata": {
        "colab": {
          "base_uri": "https://localhost:8080/"
        },
        "id": "IbwDHj-U39jW",
        "outputId": "93cab203-7697-4a70-bfb0-183cd6e8ba30"
      },
      "execution_count": 6,
      "outputs": [
        {
          "output_type": "execute_result",
          "data": {
            "text/plain": [
              "[<span class=\"wr-day-temperature__high-value\"><span class=\"wr-value--temperature\"><span class=\"wr-value--temperature--c\">32°</span><span class=\"wr-hide\"> </span><span class=\"wr-value--temperature--f\">90°</span></span></span>,\n",
              " <span class=\"wr-day-temperature__high-value\"><span class=\"wr-value--temperature\"><span class=\"wr-value--temperature--c\">33°</span><span class=\"wr-hide\"> </span><span class=\"wr-value--temperature--f\">91°</span></span></span>,\n",
              " <span class=\"wr-day-temperature__high-value\"><span class=\"wr-value--temperature\"><span class=\"wr-value--temperature--c\">32°</span><span class=\"wr-hide\"> </span><span class=\"wr-value--temperature--f\">90°</span></span></span>,\n",
              " <span class=\"wr-day-temperature__high-value\"><span class=\"wr-value--temperature\"><span class=\"wr-value--temperature--c\">33°</span><span class=\"wr-hide\"> </span><span class=\"wr-value--temperature--f\">91°</span></span></span>,\n",
              " <span class=\"wr-day-temperature__high-value\"><span class=\"wr-value--temperature\"><span class=\"wr-value--temperature--c\">34°</span><span class=\"wr-hide\"> </span><span class=\"wr-value--temperature--f\">93°</span></span></span>,\n",
              " <span class=\"wr-day-temperature__high-value\"><span class=\"wr-value--temperature\"><span class=\"wr-value--temperature--c\">35°</span><span class=\"wr-hide\"> </span><span class=\"wr-value--temperature--f\">94°</span></span></span>,\n",
              " <span class=\"wr-day-temperature__high-value\"><span class=\"wr-value--temperature\"><span class=\"wr-value--temperature--c\">35°</span><span class=\"wr-hide\"> </span><span class=\"wr-value--temperature--f\">95°</span></span></span>,\n",
              " <span class=\"wr-day-temperature__high-value\"><span class=\"wr-value--temperature\"><span class=\"wr-value--temperature--c\">33°</span><span class=\"wr-hide\"> </span><span class=\"wr-value--temperature--f\">91°</span></span></span>,\n",
              " <span class=\"wr-day-temperature__high-value\"><span class=\"wr-value--temperature\"><span class=\"wr-value--temperature--c\">31°</span><span class=\"wr-hide\"> </span><span class=\"wr-value--temperature--f\">88°</span></span></span>,\n",
              " <span class=\"wr-day-temperature__high-value\"><span class=\"wr-value--temperature\"><span class=\"wr-value--temperature--c\">32°</span><span class=\"wr-hide\"> </span><span class=\"wr-value--temperature--f\">89°</span></span></span>,\n",
              " <span class=\"wr-day-temperature__high-value\"><span class=\"wr-value--temperature\"><span class=\"wr-value--temperature--c\">33°</span><span class=\"wr-hide\"> </span><span class=\"wr-value--temperature--f\">91°</span></span></span>,\n",
              " <span class=\"wr-day-temperature__high-value\"><span class=\"wr-value--temperature\"><span class=\"wr-value--temperature--c\">34°</span><span class=\"wr-hide\"> </span><span class=\"wr-value--temperature--f\">93°</span></span></span>,\n",
              " <span class=\"wr-day-temperature__high-value\"><span class=\"wr-value--temperature\"><span class=\"wr-value--temperature--c\">34°</span><span class=\"wr-hide\"> </span><span class=\"wr-value--temperature--f\">94°</span></span></span>]"
            ]
          },
          "metadata": {},
          "execution_count": 6
        }
      ]
    },
    {
      "cell_type": "code",
      "source": [
        "daily_summary = soup.find('div', attrs={'class': 'wr-day-summary'})\n",
        "daily_summary"
      ],
      "metadata": {
        "colab": {
          "base_uri": "https://localhost:8080/"
        },
        "id": "_dYlA7Mt4BPR",
        "outputId": "82e73c63-8903-4cfa-c290-da56c7b8b596"
      },
      "execution_count": 7,
      "outputs": [
        {
          "output_type": "execute_result",
          "data": {
            "text/plain": [
              "<div class=\"wr-day-summary\"><div class=\"gel-wrap\"><span class=\"\">A clear sky and a gentle breeze</span><span class=\"wr-hide\">Sunny and a moderate breeze</span><span class=\"wr-hide\">Sunny and a gentle breeze</span><span class=\"wr-hide\">Sunny and a gentle breeze</span><span class=\"wr-hide\">Sunny and a gentle breeze</span><span class=\"wr-hide\">Sunny and a gentle breeze</span><span class=\"wr-hide\">Sunny and a gentle breeze</span><span class=\"wr-hide\">Sunny and a gentle breeze</span><span class=\"wr-hide\">Sunny and a moderate breeze</span><span class=\"wr-hide\">Sunny and a moderate breeze</span><span class=\"wr-hide\">Sunny and a moderate breeze</span><span class=\"wr-hide\">Sunny and a moderate breeze</span><span class=\"wr-hide\">Sunny and a moderate breeze</span><span class=\"wr-hide\">Sunny and a moderate breeze</span></div></div>"
            ]
          },
          "metadata": {},
          "execution_count": 7
        }
      ]
    },
    {
      "cell_type": "code",
      "source": [
        "daily_summary.text"
      ],
      "metadata": {
        "colab": {
          "base_uri": "https://localhost:8080/",
          "height": 70
        },
        "id": "8onfVMVk4C1J",
        "outputId": "8109dae5-905d-4cf9-c1a4-3aa53b1499fc"
      },
      "execution_count": 8,
      "outputs": [
        {
          "output_type": "execute_result",
          "data": {
            "text/plain": [
              "'A clear sky and a gentle breezeSunny and a moderate breezeSunny and a gentle breezeSunny and a gentle breezeSunny and a gentle breezeSunny and a gentle breezeSunny and a gentle breezeSunny and a gentle breezeSunny and a moderate breezeSunny and a moderate breezeSunny and a moderate breezeSunny and a moderate breezeSunny and a moderate breezeSunny and a moderate breeze'"
            ],
            "application/vnd.google.colaboratory.intrinsic+json": {
              "type": "string"
            }
          },
          "metadata": {},
          "execution_count": 8
        }
      ]
    },
    {
      "cell_type": "code",
      "source": [
        "daily_high_values[0].text.strip()"
      ],
      "metadata": {
        "colab": {
          "base_uri": "https://localhost:8080/",
          "height": 36
        },
        "id": "H2-cON9b4FGB",
        "outputId": "f6624bed-3ef3-485a-f779-8f3388c204a1"
      },
      "execution_count": 9,
      "outputs": [
        {
          "output_type": "execute_result",
          "data": {
            "text/plain": [
              "'32° 90°'"
            ],
            "application/vnd.google.colaboratory.intrinsic+json": {
              "type": "string"
            }
          },
          "metadata": {},
          "execution_count": 9
        }
      ]
    },
    {
      "cell_type": "code",
      "source": [
        "daily_high_values[5].text.strip()"
      ],
      "metadata": {
        "colab": {
          "base_uri": "https://localhost:8080/",
          "height": 36
        },
        "id": "qgEjue694HQh",
        "outputId": "b3677640-0fc4-49d6-ed1e-c51cc010e2e0"
      },
      "execution_count": 10,
      "outputs": [
        {
          "output_type": "execute_result",
          "data": {
            "text/plain": [
              "'35° 94°'"
            ],
            "application/vnd.google.colaboratory.intrinsic+json": {
              "type": "string"
            }
          },
          "metadata": {},
          "execution_count": 10
        }
      ]
    },
    {
      "cell_type": "code",
      "source": [
        "daily_high_values[0].text.strip().split()[0]"
      ],
      "metadata": {
        "colab": {
          "base_uri": "https://localhost:8080/",
          "height": 36
        },
        "id": "IPNMaso_4I-6",
        "outputId": "a4138282-2a07-4ce3-ff4f-ef2c2dbc0a97"
      },
      "execution_count": 11,
      "outputs": [
        {
          "output_type": "execute_result",
          "data": {
            "text/plain": [
              "'32°'"
            ],
            "application/vnd.google.colaboratory.intrinsic+json": {
              "type": "string"
            }
          },
          "metadata": {},
          "execution_count": 11
        }
      ]
    },
    {
      "cell_type": "code",
      "source": [
        "daily_high_values_list = [daily_high_values[i].text.strip().split()[0] for i in range(len(daily_high_values))]\n",
        "daily_high_values_list"
      ],
      "metadata": {
        "colab": {
          "base_uri": "https://localhost:8080/"
        },
        "id": "pHMbz_T84KvT",
        "outputId": "44239c75-b34f-4b1d-d7ae-26d61fc44969"
      },
      "execution_count": 12,
      "outputs": [
        {
          "output_type": "execute_result",
          "data": {
            "text/plain": [
              "['32°',\n",
              " '33°',\n",
              " '32°',\n",
              " '33°',\n",
              " '34°',\n",
              " '35°',\n",
              " '35°',\n",
              " '33°',\n",
              " '31°',\n",
              " '32°',\n",
              " '33°',\n",
              " '34°',\n",
              " '34°']"
            ]
          },
          "metadata": {},
          "execution_count": 12
        }
      ]
    }
  ]
}